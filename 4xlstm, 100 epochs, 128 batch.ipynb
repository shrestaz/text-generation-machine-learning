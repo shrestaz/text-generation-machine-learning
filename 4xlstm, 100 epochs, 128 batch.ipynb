{
  "nbformat": 4,
  "nbformat_minor": 0,
  "metadata": {
    "colab": {
      "name": "Text Generation with RNN.ipynb",
      "version": "0.3.2",
      "provenance": [],
      "collapsed_sections": []
    },
    "language_info": {
      "codemirror_mode": {
        "name": "ipython",
        "version": 3
      },
      "file_extension": ".py",
      "mimetype": "text/x-python",
      "name": "python",
      "nbconvert_exporter": "python",
      "pygments_lexer": "ipython3",
      "version": "3.7.3"
    },
    "kernelspec": {
      "display_name": "Python 3",
      "language": "python",
      "name": "python3"
    },
    "accelerator": "GPU"
  },
  "cells": [
    {
      "metadata": {
        "colab_type": "code",
        "id": "80xmUzUJgGWZ",
        "colab": {}
      },
      "cell_type": "code",
      "source": [
        "from __future__ import absolute_import, division, print_function\n",
        "\n",
        "import tensorflow as tf\n",
        "tf.enable_eager_execution()\n",
        "\n",
        "import numpy as np\n",
        "import os\n",
        "import time"
      ],
      "execution_count": 0,
      "outputs": []
    },
    {
      "metadata": {
        "colab_type": "code",
        "id": "efHQ8RUcwqAi",
        "colab": {}
      },
      "cell_type": "code",
      "source": [
        "# Creating and converting dataset to tensorflow\n",
        "path = tf.keras.utils.get_file('dracula.txt', 'http://www.gutenberg.org/cache/epub/345/pg345.txt')\n",
        "text = open(path, 'rb').read().decode(encoding='utf-8')\n",
        "vocabulary = sorted(set(text))\n",
        "vocabulary_size = len(vocabulary)"
      ],
      "execution_count": 0,
      "outputs": []
    },
    {
      "metadata": {
        "colab_type": "code",
        "id": "cbCv2ccgwknz",
        "outputId": "e42081cd-7f50-4c93-8d4d-76c5a2dc905c",
        "colab": {
          "base_uri": "https://localhost:8080/",
          "height": 52
        }
      },
      "cell_type": "code",
      "source": [
        "# map unique characters to indices and vice versa\n",
        "charMapping = {u:i for i, u in enumerate(vocabulary)}\n",
        "indiceMapping = np.array(vocabulary)\n",
        "text_as_int = np.array([charMapping[c] for c in text])\n",
        "\n",
        "sequence_length = 100\n",
        "examples_per_epoch = len(text)//sequence_length # floor division\n",
        "char_dataset = tf.data.Dataset.from_tensor_slices(text_as_int)\n",
        "sequences = char_dataset.batch(sequence_length+1, drop_remainder=True)\n",
        "\n",
        "num_of_characters = len(text)\n",
        "num_of_vocabulary = len(vocabulary)\n",
        "print(\"Total Characters: \", num_of_characters)\n",
        "print(\"Total Vocabulary: \", num_of_vocabulary)\n",
        "\n",
        "def split_input_target(chunk):\n",
        "    input_text = chunk[:-1]\n",
        "    target_text = chunk[1:]\n",
        "    return input_text, target_text\n",
        "\n",
        "dataset = sequences.map(split_input_target)"
      ],
      "execution_count": 3,
      "outputs": [
        {
          "output_type": "stream",
          "text": [
            "Total Characters:  883114\n",
            "Total Vocabulary:  102\n"
          ],
          "name": "stdout"
        }
      ]
    },
    {
      "metadata": {
        "colab_type": "code",
        "id": "4gpz5u3W32hK",
        "colab": {}
      },
      "cell_type": "code",
      "source": [
        "BATCH_SIZE = 128\n",
        "steps_per_epoch = examples_per_epoch//BATCH_SIZE # floor division\n",
        "BUFFER_SIZE = 10000\n",
        "dataset = dataset.shuffle(BUFFER_SIZE).batch(BATCH_SIZE, drop_remainder=True)"
      ],
      "execution_count": 0,
      "outputs": []
    },
    {
      "metadata": {
        "colab_type": "code",
        "id": "sj5x42V22Y3U",
        "outputId": "1a76da1d-4fcb-4bd4-b334-8d441abaaeca",
        "colab": {
          "base_uri": "https://localhost:8080/",
          "height": 142
        }
      },
      "cell_type": "code",
      "source": [
        "# Build model\n",
        "embedding_dimension = 256\n",
        "rnn_units = 1024\n",
        "\n",
        "lstm = tf.keras.layers.CuDNNLSTM # fast LSTM implementation backed by cuDNN\n",
        "\n",
        "def build_model(vocab_size, embedding_dim, units, batch_size, drop_out):\n",
        "  model = tf.keras.Sequential([\n",
        "    tf.keras.layers.Embedding(vocab_size, embedding_dim, batch_input_shape=[batch_size, None]), # Input layer\n",
        "    lstm(rnn_units, # Hidden layer 1\n",
        "        return_sequences=True, \n",
        "        recurrent_initializer='lecun_uniform',\n",
        "        stateful=True),\n",
        "    tf.keras.layers.Dropout(drop_out),\n",
        "    lstm(rnn_units, # Hidden layer 2\n",
        "        return_sequences=True, \n",
        "        recurrent_initializer='lecun_uniform',\n",
        "        stateful=True),\n",
        "    tf.keras.layers.Dropout(drop_out),\n",
        "    lstm(rnn_units, # Hidden layer 3\n",
        "        return_sequences=True, \n",
        "        recurrent_initializer='lecun_uniform',\n",
        "        stateful=True),\n",
        "    tf.keras.layers.Dropout(drop_out),\n",
        "    lstm(rnn_units, # Hidden layer 4\n",
        "        return_sequences=True, \n",
        "        recurrent_initializer='lecun_uniform',\n",
        "        stateful=True),\n",
        "    tf.keras.layers.Dropout(drop_out),\n",
        "    tf.keras.layers.Dense(vocab_size) # Output layer\n",
        "  ])\n",
        "  return model\n",
        "\n",
        "model = build_model(\n",
        "  vocab_size = vocabulary_size, \n",
        "  embedding_dim=embedding_dimension, \n",
        "  units=rnn_units, \n",
        "  batch_size=BATCH_SIZE,\n",
        "  drop_out=0.2)"
      ],
      "execution_count": 5,
      "outputs": [
        {
          "output_type": "stream",
          "text": [
            "WARNING:tensorflow:From /usr/local/lib/python3.6/dist-packages/tensorflow/python/ops/embedding_ops.py:132: colocate_with (from tensorflow.python.framework.ops) is deprecated and will be removed in a future version.\n",
            "Instructions for updating:\n",
            "Colocations handled automatically by placer.\n",
            "WARNING:tensorflow:From /usr/local/lib/python3.6/dist-packages/tensorflow/python/keras/layers/core.py:143: calling dropout (from tensorflow.python.ops.nn_ops) with keep_prob is deprecated and will be removed in a future version.\n",
            "Instructions for updating:\n",
            "Please use `rate` instead of `keep_prob`. Rate should be set to `rate = 1 - keep_prob`.\n"
          ],
          "name": "stdout"
        }
      ]
    },
    {
      "metadata": {
        "colab_type": "code",
        "id": "L1A0cMnYh_RK",
        "colab": {}
      },
      "cell_type": "code",
      "source": [
        "# Validate the model\n",
        "for input_example_batch, target_example_batch in dataset.take(1): \n",
        "  example_batch_predictions = model(input_example_batch)\n",
        "  \n",
        "sampled_indices = tf.random.categorical(example_batch_predictions[0], num_samples=1)\n",
        "sampled_indices = tf.squeeze(sampled_indices,axis=-1).numpy()"
      ],
      "execution_count": 0,
      "outputs": []
    },
    {
      "metadata": {
        "colab_type": "code",
        "id": "hsQZCK_-42_R",
        "outputId": "6ec5dbe1-b789-43da-8b91-e952186a8cd8",
        "colab": {
          "base_uri": "https://localhost:8080/",
          "height": 3645
        }
      },
      "cell_type": "code",
      "source": [
        "# Train the model\n",
        "def loss(labels, logits):\n",
        "  return tf.keras.losses.sparse_categorical_crossentropy(labels, logits, from_logits=True)\n",
        "\n",
        "example_batch_loss  = loss(target_example_batch, example_batch_predictions)\n",
        "print(\"Prediction shape: \", example_batch_predictions.shape, \" # (batch_size, sequence_length, vocab_size)\") \n",
        "print(\"scalar_loss:      \", example_batch_loss.numpy().mean())\n",
        "\n",
        "model.compile(tf.train.AdamOptimizer(), loss=loss)\n",
        "\n",
        "# Directory where the checkpoints will be saved\n",
        "checkpoint_dir = './training_checkpoints'\n",
        "# Name of the checkpoint files\n",
        "checkpoint_prefix = os.path.join(checkpoint_dir, \"ckpt_{epoch}\")\n",
        "\n",
        "checkpoint_callback=tf.keras.callbacks.ModelCheckpoint(\n",
        "    filepath=checkpoint_prefix,\n",
        "    save_weights_only=True)\n",
        "\n",
        "EPOCHS=100\n",
        "history = model.fit(dataset.repeat(), epochs=EPOCHS, steps_per_epoch=steps_per_epoch, callbacks=[checkpoint_callback])"
      ],
      "execution_count": 7,
      "outputs": [
        {
          "output_type": "stream",
          "text": [
            "Prediction shape:  (128, 100, 102)  # (batch_size, sequence_length, vocab_size)\n",
            "scalar_loss:       4.6255913\n",
            "Epoch 1/100\n",
            "67/68 [============================>.] - ETA: 0s - loss: 3.2563WARNING:tensorflow:From /usr/local/lib/python3.6/dist-packages/tensorflow/python/keras/engine/network.py:1436: update_checkpoint_state (from tensorflow.python.training.checkpoint_management) is deprecated and will be removed in a future version.\n",
            "Instructions for updating:\n",
            "Use tf.train.CheckpointManager to manage checkpoints rather than manually editing the Checkpoint proto.\n",
            "68/68 [==============================] - 58s 847ms/step - loss: 3.2550\n",
            "Epoch 2/100\n",
            "68/68 [==============================] - 55s 808ms/step - loss: 3.1448\n",
            "Epoch 3/100\n",
            "68/68 [==============================] - 54s 797ms/step - loss: 3.1391\n",
            "Epoch 4/100\n",
            "68/68 [==============================] - 54s 801ms/step - loss: 3.1371\n",
            "Epoch 5/100\n",
            "68/68 [==============================] - 55s 802ms/step - loss: 3.1351\n",
            "Epoch 6/100\n",
            "68/68 [==============================] - 54s 798ms/step - loss: 3.1341\n",
            "Epoch 7/100\n",
            "68/68 [==============================] - 55s 804ms/step - loss: 3.1337\n",
            "Epoch 8/100\n",
            "68/68 [==============================] - 54s 801ms/step - loss: 3.1324\n",
            "Epoch 9/100\n",
            "68/68 [==============================] - 55s 810ms/step - loss: 2.8929\n",
            "Epoch 10/100\n",
            "68/68 [==============================] - 55s 814ms/step - loss: 2.4846\n",
            "Epoch 11/100\n",
            "68/68 [==============================] - 56s 819ms/step - loss: 2.2437\n",
            "Epoch 12/100\n",
            "68/68 [==============================] - 56s 817ms/step - loss: 2.0808\n",
            "Epoch 13/100\n",
            "68/68 [==============================] - 56s 818ms/step - loss: 1.9491\n",
            "Epoch 14/100\n",
            "68/68 [==============================] - 56s 820ms/step - loss: 1.8412\n",
            "Epoch 15/100\n",
            "68/68 [==============================] - 56s 820ms/step - loss: 1.7527\n",
            "Epoch 16/100\n",
            "68/68 [==============================] - 56s 824ms/step - loss: 1.6791\n",
            "Epoch 17/100\n",
            "68/68 [==============================] - 56s 823ms/step - loss: 1.6199\n",
            "Epoch 18/100\n",
            "68/68 [==============================] - 56s 820ms/step - loss: 1.5697\n",
            "Epoch 19/100\n",
            "68/68 [==============================] - 55s 816ms/step - loss: 1.5311\n",
            "Epoch 20/100\n",
            "68/68 [==============================] - 56s 822ms/step - loss: 1.4933\n",
            "Epoch 21/100\n",
            "68/68 [==============================] - 56s 818ms/step - loss: 1.4646\n",
            "Epoch 22/100\n",
            "68/68 [==============================] - 56s 818ms/step - loss: 1.4375\n",
            "Epoch 23/100\n",
            "68/68 [==============================] - 56s 830ms/step - loss: 1.4156\n",
            "Epoch 24/100\n",
            "68/68 [==============================] - 56s 818ms/step - loss: 1.3925\n",
            "Epoch 25/100\n",
            "68/68 [==============================] - 56s 825ms/step - loss: 1.3745\n",
            "Epoch 26/100\n",
            "68/68 [==============================] - 56s 819ms/step - loss: 1.3560\n",
            "Epoch 27/100\n",
            "68/68 [==============================] - 56s 822ms/step - loss: 1.3392\n",
            "Epoch 28/100\n",
            "68/68 [==============================] - 56s 819ms/step - loss: 1.3255\n",
            "Epoch 29/100\n",
            "68/68 [==============================] - 56s 818ms/step - loss: 1.3109\n",
            "Epoch 30/100\n",
            "68/68 [==============================] - 56s 817ms/step - loss: 1.2965\n",
            "Epoch 31/100\n",
            "68/68 [==============================] - 56s 819ms/step - loss: 1.2855\n",
            "Epoch 32/100\n",
            "68/68 [==============================] - 55s 816ms/step - loss: 1.2734\n",
            "Epoch 33/100\n",
            "68/68 [==============================] - 55s 815ms/step - loss: 1.2600\n",
            "Epoch 34/100\n",
            "68/68 [==============================] - 56s 823ms/step - loss: 1.2477\n",
            "Epoch 35/100\n",
            "68/68 [==============================] - 55s 815ms/step - loss: 1.2375\n",
            "Epoch 36/100\n",
            "68/68 [==============================] - 56s 823ms/step - loss: 1.2251\n",
            "Epoch 37/100\n",
            "68/68 [==============================] - 56s 825ms/step - loss: 1.2144\n",
            "Epoch 38/100\n",
            "68/68 [==============================] - 56s 818ms/step - loss: 1.2031\n",
            "Epoch 39/100\n",
            "68/68 [==============================] - 56s 828ms/step - loss: 1.1933\n",
            "Epoch 40/100\n",
            "68/68 [==============================] - 56s 821ms/step - loss: 1.1828\n",
            "Epoch 41/100\n",
            "68/68 [==============================] - 56s 823ms/step - loss: 1.1718\n",
            "Epoch 42/100\n",
            "68/68 [==============================] - 56s 818ms/step - loss: 1.1628\n",
            "Epoch 43/100\n",
            "68/68 [==============================] - 55s 815ms/step - loss: 1.1528\n",
            "Epoch 44/100\n",
            "68/68 [==============================] - 56s 818ms/step - loss: 1.1429\n",
            "Epoch 45/100\n",
            "68/68 [==============================] - 56s 817ms/step - loss: 1.1315\n",
            "Epoch 46/100\n",
            "68/68 [==============================] - 56s 819ms/step - loss: 1.1217\n",
            "Epoch 47/100\n",
            "68/68 [==============================] - 55s 816ms/step - loss: 1.1126\n",
            "Epoch 48/100\n",
            "68/68 [==============================] - 56s 817ms/step - loss: 1.1042\n",
            "Epoch 49/100\n",
            "68/68 [==============================] - 55s 816ms/step - loss: 1.0925\n",
            "Epoch 50/100\n",
            "68/68 [==============================] - 56s 818ms/step - loss: 1.0826\n",
            "Epoch 51/100\n",
            "68/68 [==============================] - 56s 819ms/step - loss: 1.0727\n",
            "Epoch 52/100\n",
            "68/68 [==============================] - 56s 816ms/step - loss: 1.0646\n",
            "Epoch 53/100\n",
            "68/68 [==============================] - 55s 815ms/step - loss: 1.0538\n",
            "Epoch 54/100\n",
            "68/68 [==============================] - 56s 819ms/step - loss: 1.0449\n",
            "Epoch 55/100\n",
            "68/68 [==============================] - 56s 817ms/step - loss: 1.0350\n",
            "Epoch 56/100\n",
            "68/68 [==============================] - 56s 819ms/step - loss: 1.0261\n",
            "Epoch 57/100\n",
            "68/68 [==============================] - 55s 816ms/step - loss: 1.0148\n",
            "Epoch 58/100\n",
            "68/68 [==============================] - 56s 820ms/step - loss: 1.0054\n",
            "Epoch 59/100\n",
            "68/68 [==============================] - 55s 815ms/step - loss: 0.9959\n",
            "Epoch 60/100\n",
            "68/68 [==============================] - 56s 816ms/step - loss: 0.9886\n",
            "Epoch 61/100\n",
            "68/68 [==============================] - 55s 814ms/step - loss: 0.9781\n",
            "Epoch 62/100\n",
            "68/68 [==============================] - 56s 820ms/step - loss: 0.9702\n",
            "Epoch 63/100\n",
            "68/68 [==============================] - 56s 816ms/step - loss: 0.9608\n",
            "Epoch 64/100\n",
            "68/68 [==============================] - 56s 818ms/step - loss: 0.9541\n",
            "Epoch 65/100\n",
            "68/68 [==============================] - 56s 817ms/step - loss: 0.9431\n",
            "Epoch 66/100\n",
            "68/68 [==============================] - 56s 821ms/step - loss: 0.9350\n",
            "Epoch 67/100\n",
            "68/68 [==============================] - 55s 816ms/step - loss: 0.9239\n",
            "Epoch 68/100\n",
            "68/68 [==============================] - 55s 815ms/step - loss: 0.9174\n",
            "Epoch 69/100\n",
            "68/68 [==============================] - 55s 815ms/step - loss: 0.9093\n",
            "Epoch 70/100\n",
            "68/68 [==============================] - 56s 817ms/step - loss: 0.8994\n",
            "Epoch 71/100\n",
            "68/68 [==============================] - 56s 826ms/step - loss: 0.8915\n",
            "Epoch 72/100\n",
            "68/68 [==============================] - 55s 812ms/step - loss: 0.8836\n",
            "Epoch 73/100\n",
            "68/68 [==============================] - 56s 819ms/step - loss: 0.8759\n",
            "Epoch 74/100\n",
            "68/68 [==============================] - 56s 820ms/step - loss: 0.8688\n",
            "Epoch 75/100\n",
            "68/68 [==============================] - 55s 816ms/step - loss: 0.8604\n",
            "Epoch 76/100\n",
            "68/68 [==============================] - 56s 817ms/step - loss: 0.8526\n",
            "Epoch 77/100\n",
            "68/68 [==============================] - 55s 812ms/step - loss: 0.8446\n",
            "Epoch 78/100\n",
            "68/68 [==============================] - 56s 816ms/step - loss: 0.8375\n",
            "Epoch 79/100\n",
            "68/68 [==============================] - 55s 814ms/step - loss: 0.8300\n",
            "Epoch 80/100\n",
            "68/68 [==============================] - 55s 816ms/step - loss: 0.8217\n",
            "Epoch 81/100\n",
            "68/68 [==============================] - 56s 818ms/step - loss: 0.8138\n",
            "Epoch 82/100\n",
            "68/68 [==============================] - 55s 814ms/step - loss: 0.8091\n",
            "Epoch 83/100\n",
            "68/68 [==============================] - 56s 818ms/step - loss: 0.8021\n",
            "Epoch 84/100\n",
            "68/68 [==============================] - 55s 814ms/step - loss: 0.7940\n",
            "Epoch 85/100\n",
            "68/68 [==============================] - 55s 815ms/step - loss: 0.7861\n",
            "Epoch 86/100\n",
            "68/68 [==============================] - 56s 817ms/step - loss: 0.7803\n",
            "Epoch 87/100\n",
            "68/68 [==============================] - 55s 815ms/step - loss: 0.7745\n",
            "Epoch 88/100\n",
            "68/68 [==============================] - 56s 818ms/step - loss: 0.7692\n",
            "Epoch 89/100\n",
            "68/68 [==============================] - 55s 814ms/step - loss: 0.7620\n",
            "Epoch 90/100\n",
            "68/68 [==============================] - 55s 815ms/step - loss: 0.7565\n",
            "Epoch 91/100\n",
            "68/68 [==============================] - 55s 814ms/step - loss: 0.7508\n",
            "Epoch 92/100\n",
            "68/68 [==============================] - 56s 822ms/step - loss: 0.7445\n",
            "Epoch 93/100\n",
            "68/68 [==============================] - 55s 812ms/step - loss: 0.7388\n",
            "Epoch 94/100\n",
            "68/68 [==============================] - 55s 811ms/step - loss: 0.7337\n",
            "Epoch 95/100\n",
            "68/68 [==============================] - 55s 814ms/step - loss: 0.7276\n",
            "Epoch 96/100\n",
            "68/68 [==============================] - 55s 815ms/step - loss: 0.7222\n",
            "Epoch 97/100\n",
            "68/68 [==============================] - 55s 811ms/step - loss: 0.7179\n",
            "Epoch 98/100\n",
            "68/68 [==============================] - 55s 816ms/step - loss: 0.7130\n",
            "Epoch 99/100\n",
            "68/68 [==============================] - 55s 815ms/step - loss: 0.7070\n",
            "Epoch 100/100\n",
            "68/68 [==============================] - 55s 812ms/step - loss: 0.7012\n"
          ],
          "name": "stdout"
        }
      ]
    },
    {
      "metadata": {
        "colab_type": "code",
        "id": "vrPopEcKfTbv",
        "colab": {}
      },
      "cell_type": "code",
      "source": [
        "tf.train.latest_checkpoint(checkpoint_dir)\n",
        "model = build_model(vocabulary_size, embedding_dimension, rnn_units, batch_size=1, drop_out=0.2)\n",
        "\n",
        "model.load_weights(tf.train.latest_checkpoint(checkpoint_dir))\n",
        "\n",
        "model.build(tf.TensorShape([1, None]))"
      ],
      "execution_count": 0,
      "outputs": []
    },
    {
      "metadata": {
        "colab_type": "code",
        "id": "m_Evgr4Pwydc",
        "colab": {}
      },
      "cell_type": "code",
      "source": [
        "# Generate text algorithm\n",
        "def generate_text(model, num_char_to_generate, temperature, start_string):\n",
        "  # Converting our start string to numbers (vectorizing) \n",
        "  input_eval = [charMapping[s] for s in start_string]\n",
        "  input_eval = tf.expand_dims(input_eval, 0)\n",
        "\n",
        "  # Empty string to store our results\n",
        "  text_generated = []\n",
        "\n",
        "  # Here batch size == 1\n",
        "  model.reset_states()\n",
        "  for i in range(num_char_to_generate):\n",
        "      predictions = model(input_eval)\n",
        "      # remove the batch dimension\n",
        "      predictions = tf.squeeze(predictions, 0)\n",
        "\n",
        "      # using a multinomial distribution to predict the word returned by the model\n",
        "      predictions = predictions / temperature\n",
        "      predicted_id = tf.multinomial(predictions, num_samples=1)[-1,0].numpy()\n",
        "      \n",
        "      # We pass the predicted word as the next input to the model\n",
        "      # along with the previous hidden state\n",
        "      input_eval = tf.expand_dims([predicted_id], 0)\n",
        "      \n",
        "      text_generated.append(indiceMapping[predicted_id])\n",
        "\n",
        "  return (start_string + ''.join(text_generated))"
      ],
      "execution_count": 0,
      "outputs": []
    },
    {
      "metadata": {
        "colab_type": "code",
        "id": "n-jikOVZ710c",
        "outputId": "d29ad547-b2cb-4aa5-e795-925988e6a8ca",
        "colab": {
          "base_uri": "https://localhost:8080/",
          "height": 230
        }
      },
      "cell_type": "code",
      "source": [
        "  # Low temperatures results in more predictable text.\n",
        "  # Higher temperatures results in more surprising text.\n",
        "  # Experiment to find the best setting.\n",
        "\n",
        "print(generate_text(model, 5000, .6, \"Dracula moved to Copenhagen because \"))"
      ],
      "execution_count": 10,
      "outputs": [
        {
          "output_type": "stream",
          "text": [
            "WARNING:tensorflow:From <ipython-input-9-b38a7cfe830f>:18: multinomial (from tensorflow.python.ops.random_ops) is deprecated and will be removed in a future version.\n",
            "Instructions for updating:\n",
            "Use tf.random.categorical instead.\n",
            "Dracula moved to Copenhagen because zVVGèèGGè8&èèèzM&èèâG&èâëèzQèè&&ëèzzèèKèKè8zèèèè&èë)VVèGèèMâèèFèè)èè>VèèèJQQèè7QJèèèKQèfè>GèzQèèèQèëJQèè1ëKJGèGGJèGFè{>è>JGèè>4èKVVQG}èGAQ}BQèGèGGè>èèGQKQèè=BèGQèè)QèGQèèGQèGQQGèGQèGEGGQ9èGBGèGGQGèGGQGGGGèGGGGGGGèGGGGGGGGGGGGGGGGGGGGGGGGGGGGGGGGGGGGGfBGGGGGGGGGèGGGGGGGGGGGGGGGGGGGGGGGGGGGGGGGGGGGGGGBGGfGGG&VJèGGGKGKGGGGGKGGGGGGG(GQGGG}GGGGGGGG9GGGGGGGGGGGGGGGGGGGGGèGGGGGGGGGGGGGGGGGGGGGWGGAGGGGGGGGGGGGGGGGGGG9GGGGGGGGGGGGGGGGGGGGGGGGGGG6GGG9GGGG9GG1G=GGGGGGGGGGGGGGGGGGGGGGQGGGGGGGGGGGGGGGGQGGGGGGGGGGGGGGGGGGGGGG)GGGGKGGGGGGGGGG=GGGGGGGGGGGGGGGGGGGGBGGGGBGGGKGGGGGGGGGGGGGGGGGGGGGGGGGGGGGGGGGGQGGG5GGGGGGGGG99FGGGGGGGGGGG9GGGGGGGQGGGGGGGGGGGGGGGèGGGGGKGGGGQGGGGGGGGëGGGGGGGGGGGGGGGGáGGGGGGGGëGGGGGGGGGGGGëKGKGèGQQGGGGGGGGGG9GGGGGF9GGGGGGGGGG9GGQGGGG0GFGGGG=GGGG5GGG>VKGGGGGGGGGGG{GG>GGGèGGGGGGGGGGGGGGGGGGGGGGGGGQGGGGGGKG=GGEGWVVVV{GKGGQGGGGGGGQGG;QQSVVèGGGGG0GQGKGV8GQQGGGGQQ=GGGGGKVVV#G{GGQQGGGGGGGG>GGFVVVQGGGG%GGGGFQVVèGGGQG{KKGKGGGGGGGGGGGGGGGGGëGGG9GGG>QMGGGëGGGGGGGKGGGGGFGGG9GèGGGGGGGGGGGGGGGGGG9GGGGGGGGFâGGGGGGGGGGGGGGGGGGfGGGGGGGGGGGGGGG)GGGGGG\n",
            "GGGG9GEGGGGGGGGGGGGGGKGQGGGGVGGGGFVVGQGGGGGGGGGGGGGGGGGGGGGGGGGGGGGGGFVVFGGGGQGGGôGGGGQGGGGGGGGG1GGGGGGGKGG8GGGGG>VGKGGGGGGGGGGGGGGGGGGV9GGGGG=GGGGfëGGGGGGG9GGGGGEGGGGG9GGGGGGGGGGF9GKVVGGGGGGGGG9GëGGGGGGGGGGGGVGGQGGGKGGGGGGGVGGGGGGGGGGGGGGGGGVQGGGGVGQ=GGQGVKGGGGGGGKGGGGGGGGGGGGGG=GGGGGGGGKGGGGGGGGKGGGGGGGGGGGGGGGGGGGGGGGGG>VGGGGGGGGGGGKGGGGGGGGGGGGG9GGGGGGGGGGGGGGGGGGGGGGGGGGGGGGGGGGGGGGGGGGGGGGGGGGGGGGGEGGGGGGGGGGGGGGGGGVGGGG8GG>WëGGGGVG69GGGGGGGGGGG9GGGGGGëGGGGGGGGGGGGGGGGGGGGGGGGGèGGGGGG)GGGGGGKGGGGGGGGGGGGGGGëGGGGGGGGGGGGGGGGGGGGGGGGGGGGGGGGGGGGGGGGGGGGGG9GGGGGGGKGG\n",
            "GGëGGGG9{GëGGUGGGGëGGGGGGGKG>KGGGGGGGGGGGGGGGGGGGGGGGGGGGGGGGG0GGGGGGGGGGGGGGKGGGVGGGGGGGGGGGGGGGGGGGGGGGGGGGGGG>èGGGGèG1GGGGGzèGGGGèGèGGGGGGGKGGGGGGKK9GFKGGGGKGGGQ9GG9GGGGGG1GGGGGGGGGGGGVVVFGGGKGGGGGGGG>VVQ&GGGGëKKëGzzVGGGGGGGGGGGVëGGGGG0FGGëGG0KGGGGGGGGG9GGGGGGGGGGGGGGGGGGKKGGGGGGGG>VVGGGG=GGGGGGGGGGGGGGGGGGëG0GGGGGGGGG1GGGG9GGGGGGGGGGGG1GGGGGGGGGVGGGGGëGGGG9GGF9GGGGGGKGGGGGGGGGGGGGGGGGGGGGëëGGGGGGGGG9GFGVVVFGKGGë6GVëK1GëGGUGGGG{FGGGGGGGGèGGF>GGz1G6FGGKGGKKV1GGèGGFGFzK>GBGGG9GGG0GGGGKfGG0GGGGGGGGGGGG11GGGGGGGGG{GGGëëGGGGGGG>GGGGGG&VVFV&GGzGGzGGGG6GFG6Fë2GèG=0&KGGFGGGG1GG6GG9ëG=GGGGG>9GGGGGGGGG1GVV9zG=GGGGGG>VQGGGGGFèGBGK2F12G9GGG8F=UGGKCKF8G96=1KGGGGGGG61GGGGG6126FKF%#GGG}GGGG>>G28G1GGGGGG9GGG9F6GGKGGGGGG0GèGG>GGGGGGGGGGGGGG1G1GGGG8KGG9GGèGGG10GF5G0GGGGG1&zVGGGG&99ë&Kè2G1GGGzG90G9GGG9KGGGGG8G01{G(KFëKGGzG9G0GG9G8F9&QVGG6GGGGGGG18UGKV9GëGGGGGG9GëFGG2>GGQGGGfGG9GGG9GëGGGGëGKGGGF)GGG119V1GëGGG1G1996)QUK>8G9G%0GQQ919&UGzEG>FGGGGGGG4G0&KVKV0Gz/GGFGGG%ëGG{GQKGëGGGGK>UGGBGKGGQèGGG9GGGëGz0GG6f0èGGG1FG{GGGKK1G9GGGBGG9G11G86GèGGGëG91G1G1ëGFèGG11GG09GKGG=G1G1&GGGGG9GGGGG1GGGëGGGGGGGGGGGGGGGGGG0GGGGGGG9GGGGGGGGGGG8F9GGGGGG1GGGGGGGGGG9GG>GGGGGGGGèGGGGG{GGGGGUGGG)1FGGGG2GGGGGGF1GGG9GGGG1GGGGG1GGëGG1GGGGG0GG9GGGGëGG#GG911&9GGGG99F]GGG=GGG111>1G1GGGGG}FVG9GGGG2Gë9ë11G\n",
            "G1>QQ1119G9GGF99GGGGG92961FGG9GQ1GGGGGGGG9G991GK91GKQ>QGGG0KGGGGUGGK=G1GGFQGKfèG{GGKGGGKQGGGGGG1GGGG=GG&GzèGGGGGF1GGG{GGG1G1GèGGQGGGGGG{G9GGK1GGG1F9=GG=G19GQVGGGGQè9GG9>GGèGGGGGGGG2G9KG9GGG&QGGFGGGGGG>GGGGëGG=9FQVGGGGGGG1G919GGG1GGGGèG1G11FGFQFGGGGèGGGGGGG%f{GáGëG9KGG{GG{GGKFKGFQèGGG9GGGGGB&9GGGFëGGGG9G_GGëGQGGGQ9GGG{GG&G2GGGF1GGGF9èGG9GFFFGCGèKGG1GQBëGè{GGGGK=GGBG112FèGGGGGGGGGGGGE(2GGG>ëGGG91BFGFGGèGG{GGëGGGQ119QGQ\n",
            "{GKQGGG{GGFGGQ8GGB>QGGGGGGGGGGGGUGGQ>=G1FGGG1ëGKG1GGGFQGGGGGGGGF=FGQGGGGGGGGGGGG>QFG=GGGGGGGGGGG1GFFGGFGGGGGGFëGG{GGG911GFJQGG2G1FGGG1GGFF=G9G&QGGGëG1KGGG9GGGG10GG{GGGGFèGGFQGGGGGGGGQFèGG91G1G{GGFFGG9GQG1GGGGGG9GGB1æGGFáKGèGG1GGQFKFfGGGOGG{GG0>QGGGGGGCèGGG]1GFQFfOGG19GGGGF1GG{GQf6F=KGGGGGGGG1GGGG\n",
            "\n",
            "GG>869FKQBGGGGQ@G>VQGGGGGGG%fG1G0G=GG>VQèGGFGGGGQGG)=G_Ff}GKF{GGGG&Q5GG>FQGGGGGGFFGFQG>G{GG3FGFGGGKGGGGGGGF1GGGGG9GGFèGGG1FCGGGG0QGGGG9FQ=GGG9G1Q1(GGF%GGGGG{GGFQG=GG01G{GGQG1G9GGQG1G1GGFQUGGGGGG{GGGQ19FâGG9G6FGGJGGGQ16QGGFGGGG11{1G9G9{GGG_GGG1GJKF_9GGGGGG90{GG{G1FKFGGG=9091G>QGVQGGFG{GGGQGGF/G03GGFQèG{GGGGGGGKGGG1GGGèG9=9FGG6GGGGG1zfG(GGGG9æG0GWGGGGGGG9GGG9GGKG9GBGG1GF1GGâfBGGGG16GGGFVèG>1FGèGG91èG(G9KGGGGGG1QGGG1{G>91FFèGG9GGâB9BGGQG99GGKGGFëGGG9GGGGGG1GG=FfGGGfQèKGGGGGG61%GGGxëGGG912GGG9FGGGGGf9GFGGGfGGGGGGG&KGGGGG1GQ92G{G1212>Q9GGGGGGG1GG1G{GGGG19G=GGGGGGGFz9ëGQOGGF_>G6GGH#GGGGGG#GfQVâGGGGGGGGGGGF>Q>GGGGOGGG>GB1G=GGGèGGFGëGGG811>=zQFèGG1GGGGKèGGGFVFGGGGGGQGG{GGKKfF6GGGGGG>VëGF/GGGfFzVëGGGG9GGB96GGGGGGGGGGG62111>QGGGBG9GGGGF9GGF9G9FGèGGëGG2GGGG1âFGGGG9GGQG1GQVQGGG91G/GG=&>èGGBGG211962FàQGGGGGèGK{GGzGè2{GGGOG>f{GQ9GG1âGQ=9GQQGGGGGGG9GGGGGGGGGG=GGGëGGGG9GGGFëGGGG1GGGGFèGG22G[ëGGFGF>èGGGGGff9GGGG{GG7GGèGG{GGGUKGBGGG6FGGGGQGGGGGG1GGGGGâ1BGGGG11GGGGGGFQFQGGèGGG9GBGG1G22GFQEGQGG9Gè{>G1GG>GèGGGFQ=GGGGGGfèGGGQGGGGGG{GGGGKGGGGGGG1GGGGGáGG1{GGGGèGGQ1féGGGGGGGG/GGGG1>G>GGG52GGQG>GFGG0{GGFGGGGKFG&èGGGGGGGGGGGG&QGèGGG&fG>GGKGëGG9GG{GGQGGGGGGGGGGëGG1GzGGG1f1GG6{2GUKGFQGGGGGGGK1GGG{GGG1GGG7UG>{GGGGGJGGGG_FfGèGGâGGGGGGGGGGQGG9GGG1G{G1GG9{GGF9F\n",
            "GGG29GGGGaGJèGGèKGGQQGGGGGGG9961GGG1>1è0119ëGCFFèGKFKGG>èGGFKèGGFFQèGGGG1G&GGGGG01FGVQGGGGGGGGGG9FQQ2G0GFFzQGGGèGGQF>\n"
          ],
          "name": "stdout"
        }
      ]
    },
    {
      "metadata": {
        "colab_type": "code",
        "id": "9q6NKUhHMERD",
        "outputId": "503da44a-4a38-4675-877e-c72ff8fb906e",
        "colab": {
          "base_uri": "https://localhost:8080/",
          "height": 609
        }
      },
      "cell_type": "code",
      "source": [
        "import matplotlib.pyplot as plt\n",
        "import numpy as np\n",
        "loss = history.history['loss']\n",
        "newLoss = np.squeeze(loss)\n",
        "plt.figure(figsize=(10,10))\n",
        "plt.plot(newLoss)\n",
        "plt.xlabel('Epochs')\n",
        "plt.ylabel('Loss')\n",
        "plt.show()"
      ],
      "execution_count": 11,
      "outputs": [
        {
          "output_type": "display_data",
          "data": {
            "image/png": "[encoded data removed]",
            "text/plain": [
              "<Figure size 720x720 with 1 Axes>"
            ]
          },
          "metadata": {
            "tags": []
          }
        }
      ]
    }
  ]
}